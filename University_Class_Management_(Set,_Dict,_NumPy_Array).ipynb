{
  "nbformat": 4,
  "nbformat_minor": 0,
  "metadata": {
    "colab": {
      "provenance": [],
      "authorship_tag": "ABX9TyPuVd9Ra59N7ShxrTrEGPvs",
      "include_colab_link": true
    },
    "kernelspec": {
      "name": "python3",
      "display_name": "Python 3"
    },
    "language_info": {
      "name": "python"
    }
  },
  "cells": [
    {
      "cell_type": "markdown",
      "metadata": {
        "id": "view-in-github",
        "colab_type": "text"
      },
      "source": [
        "<a href=\"https://colab.research.google.com/github/sabiha-shehzadi/First-react-app/blob/main/University_Class_Management_(Set%2C_Dict%2C_NumPy_Array).ipynb\" target=\"_parent\"><img src=\"https://colab.research.google.com/assets/colab-badge.svg\" alt=\"Open In Colab\"/></a>"
      ]
    },
    {
      "cell_type": "code",
      "execution_count": 2,
      "metadata": {
        "colab": {
          "base_uri": "https://localhost:8080/"
        },
        "id": "0ubbNXdWK9kx",
        "outputId": "1102e7fc-5c6e-4369-d754-524f94f74bbc"
      },
      "outputs": [
        {
          "output_type": "stream",
          "name": "stdout",
          "text": [
            "Unique Roll Numbers: {101, 102, 103, 104, 105, 106}\n",
            "Quiz Averages: {101: 13.666666666666666, 102: 14.666666666666666, 103: 14.666666666666666, 104: 18.0, 105: 11.0, 106: 18.0}\n",
            "Final Exam Marks: [60 75 55 80 90 70]\n",
            "Final Scores: {101: np.float64(73.66666666666667), 102: np.float64(89.66666666666667), 103: np.float64(69.66666666666667), 104: np.float64(98.0), 105: np.float64(101.0), 106: np.float64(88.0)}\n",
            "Class Average: 86.66666666666667\n",
            "Above Average Students: [102, 104, 105, 106]\n"
          ]
        }
      ],
      "source": [
        "import numpy as np\n",
        "# Step 1: Create a set of roll numbers (with duplicates, should stay unique)\n",
        "roll_numbers = {101, 102, 103, 101, 104, 105, 106, 106}\n",
        "print(\"Unique Roll Numbers:\", roll_numbers)\n",
        "\n",
        "# Step 2: Store quiz marks in a dictionary\n",
        "quiz_marks = {\n",
        "    101: [12, 15, 14],\n",
        "    102: [10, 18, 16],\n",
        "    103: [14, 13, 17],\n",
        "    104: [15, 19, 20],\n",
        "    105: [12, 11, 10],\n",
        "    106: [18, 17, 19]\n",
        "}\n",
        "\n",
        "# Step 3: Calculate average marks for each student\n",
        "quiz_avg = {}\n",
        "for roll, marks in quiz_marks.items():\n",
        "    quiz_avg[roll] = sum(marks) / len(marks)\n",
        "print(\"Quiz Averages:\", quiz_avg)\n",
        "\n",
        "# Step 4: Store final exam marks in NumPy array\n",
        "final_exam = np.array([60, 75, 55, 80, 90, 70])  # Example values\n",
        "print(\"Final Exam Marks:\", final_exam)\n",
        "\n",
        "# Step 5: Calculate class average and find above-average students\n",
        "final_scores = {}\n",
        "for i, roll in enumerate(sorted(roll_numbers)):  # sort to match order\n",
        "    final_scores[roll] = quiz_avg[roll] + final_exam[i]\n",
        "\n",
        "print(\"Final Scores:\", final_scores)\n",
        "\n",
        "class_avg = sum(final_scores.values()) / len(final_scores)\n",
        "print(\"Class Average:\", class_avg)\n",
        "\n",
        "above_avg = [roll for roll, score in final_scores.items() if score > class_avg]\n",
        "print(\"Above Average Students:\", above_avg)\n"
      ]
    }
  ]
}